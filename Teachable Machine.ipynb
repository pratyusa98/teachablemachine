{
 "cells": [
  {
   "cell_type": "markdown",
   "id": "future-store",
   "metadata": {},
   "source": [
    "# Teachable Machines With Google\n",
    "\n",
    "## Build A Machine Learning App In Less Than an Hour\n",
    "\n",
    "<img src=\"1.png\">"
   ]
  },
  {
   "cell_type": "markdown",
   "id": "agricultural-covering",
   "metadata": {},
   "source": [
    "### What is Teachable Machine?\n",
    "- Teachable Machine is a web-based tool that makes creating machine learning models fast, easy, and accessible to everyone.Teachable Machine is flexible — use files or capture examples live. It’s respectful of the way you work. \n",
    "- You can even choose to use it entirely on-device, without any webcam or microphone data leaving your computer.And anyone can use this like Educators, artists, students, innovators, makers of all kinds — really, anyone who has an idea they want to explore."
   ]
  },
  {
   "cell_type": "markdown",
   "id": "fourth-powder",
   "metadata": {},
   "source": [
    "### How does it work?\n",
    "\n",
    "- You train a computer to recognize your images, sounds, and poses without writing any machine learning code. Then, use your model in your own projects, sites, apps, and more.\n",
    "\n",
    "<img src=\"3.png\">\n",
    "\n",
    "### 1) Gather\n",
    "\n",
    "- Upload your own image files, or capture them live with a mic or webcam and group your flexible examples into classes, or categories, that you want the machine to learn. These examples stay on-device, never leaving your computer unless you choose to save your project to Google Drive.\n",
    "        Images: Teach a model to classify images using files or your webcam.\n",
    "        Sounds: Teach a model to classify audio by recording short sound samples.\n",
    "        Poses: Teach a model to classify body positions using files or striking poses in your webcam.\n",
    "        \n",
    "### 2) Train:\n",
    "\n",
    "- Train your model by just clicking a single button no need of any smoothing or pre-processing required,Teachable Machine will train a model based on the examples you provided. All the training happens in your browser, so everything stays in your computer. then instantly test it out to see whether it can correctly classify new examples like poses,voice or images as per prior input which used for training.\n",
    "\n",
    "### 3)Export:\n",
    "\n",
    "- Export your model for your projects: sites, apps, and more. You can download your model or host it online for free from this.\n",
    "- There are a few ways to save your work. You can:\n",
    "                        1.Save your entire project to Google Drive. You can save your project to your Google Drive in a .zip file that contains all the samples in each of your classes to Drive. You can then open that .zip again from Teachable Machine later to pick up where you left off.\n",
    "                        2.Download your samples. You can download all the samples in each class, and upload them later if you want to keep working with the same data.\n",
    "                        3.Download your model. If you download your model, and close your tab, you can use that downloaded model later — and nothing is saved on any servers.\n",
    "                        4.Save nothing. If you close your tab and do none of the above, nothing is saved in your browser or on any servers."
   ]
  },
  {
   "cell_type": "markdown",
   "id": "collaborative-thanks",
   "metadata": {},
   "source": [
    "## Get Started\n",
    "<img src=\"2.png\">\n",
    "\n",
    "#### Click Any of these three that you want here i am click image project. after click the page looks like:\n",
    "\n",
    "<img src=\"5.png\">"
   ]
  },
  {
   "cell_type": "markdown",
   "id": "sustained-bedroom",
   "metadata": {},
   "source": [
    "## How to Do it ?\n",
    "\n",
    "- As you see it consist of three step 1,2,3 respectively.\n",
    "\n",
    "#### step1:-\n",
    "- in this step first you give the data to train the model. to giving data here two methods 1. by webcam and 2. by upload from your device.\n",
    "\n",
    "#### step2:- \n",
    "- After upload the data then in this step we train the model to that dataset. Default Epochs=50.\n",
    "\n",
    "#### step3:- \n",
    "- After Train in this step we can predict the output and also download the model that created by click Export model.\n",
    "\n",
    "<img src=\"6.png\" style=\"height:500px\">\n",
    "\n",
    "- You can export model by using these 3 methods. in tensorflow section you can download the model."
   ]
  },
  {
   "cell_type": "markdown",
   "id": "legislative-milan",
   "metadata": {},
   "source": [
    "## Final Output\n",
    "\n",
    "<img src=\"7.png\">"
   ]
  },
  {
   "cell_type": "markdown",
   "id": "based-collins",
   "metadata": {},
   "source": [
    "### Advantages:\n",
    "\n",
    "1. Easy to train and deploy.\n",
    "2. Very less time taken to train the model.\n",
    "3. open source so we can play with multiple classes.\n",
    "4. Easy steps now such ML knowledge require even if a child want to make model then he can and check it on new examples.\n",
    "\n",
    "### Disadvantages:\n",
    "1. There are some situations where might your model isn’t working the way you want. Here are some examples:\n",
    "2. Changing backgrounds/environments.\n",
    "3. Framing your examples.\n",
    "4. Confusing new examples."
   ]
  },
  {
   "cell_type": "markdown",
   "id": "lined-trauma",
   "metadata": {},
   "source": [
    "### Getting started with Teachable machines with google:\n",
    "\n",
    "So why are you waiting Just go to https://teachablemachine.withgoogle.com/ and click Get Started. No need to make an account or log in and play with new examples once model train with earlier ones."
   ]
  }
 ],
 "metadata": {
  "kernelspec": {
   "display_name": "Python 3",
   "language": "python",
   "name": "python3"
  },
  "language_info": {
   "codemirror_mode": {
    "name": "ipython",
    "version": 3
   },
   "file_extension": ".py",
   "mimetype": "text/x-python",
   "name": "python",
   "nbconvert_exporter": "python",
   "pygments_lexer": "ipython3",
   "version": "3.7.6"
  }
 },
 "nbformat": 4,
 "nbformat_minor": 5
}
